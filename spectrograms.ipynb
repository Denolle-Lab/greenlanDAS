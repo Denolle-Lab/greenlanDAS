{
 "cells": [
  {
   "cell_type": "code",
   "execution_count": 1,
   "id": "799726e2",
   "metadata": {},
   "outputs": [],
   "source": [
    "import obspy\n",
    "import h5py\n",
    "from scipy.signal import spectrogram\n",
    "import numpy as np\n",
    "import glob\n",
    "import matplotlib. pyplot as plt\n",
    "import matplotlib.dates as mdates\n",
    "import datetime as datetime\n",
    "import multiprocessing\n",
    "from multiprocessing import set_start_method\n",
    "from compute_spectrogram import (compute_spectrogram, plot_spectrogram, compute_and_plot_spectrogram,\n",
    "                                compute_and_save_spectrogram)"
   ]
  },
  {
   "cell_type": "code",
   "execution_count": 2,
   "id": "e3fe928b",
   "metadata": {},
   "outputs": [],
   "source": [
    "'''\n",
    "\n",
    "Set spectrogram parameters\n",
    "\n",
    "'''\n",
    "\n",
    "window_length = 1000 # seconds\n",
    "noverlap = 0.75 # ratio of window_length"
   ]
  },
  {
   "cell_type": "code",
   "execution_count": null,
   "id": "4bdebeb9",
   "metadata": {},
   "outputs": [],
   "source": [
    "# get list of all continuous channel files\n",
    "path = \"/1-fnp/pnwstore1/p-wd05/greenland/data/channel/\"\n",
    "files = glob.glob(path+\"/*\")\n",
    "\n",
    "# list any already-processed files\n",
    "# out_path = \"/fd1/solinger/spectrograms/\"\n",
    "# out_files = glob.glob(out_path+\"/*\")\n",
    "# for out_f in out_files:\n",
    "#     for i,f in enumerate(files):\n",
    "#         if out_f.split(\"/\")[4].split(\".\")[0] in f:\n",
    "#             del files[i]\n",
    "\n",
    "# sort by channel\n",
    "channels = list(map(int,[f.split(\"_\")[1].split(\".\")[0] for f in files]))\n",
    "sort_idx = np.argsort(channels)\n",
    "files = np.array(files)[sort_idx]\n",
    "channels = np.array(channels)[sort_idx]"
   ]
  },
  {
   "cell_type": "code",
   "execution_count": null,
   "id": "55eae051",
   "metadata": {},
   "outputs": [],
   "source": [
    "'''\n",
    "\n",
    "Plot spectrogram for each channel\n",
    "\n",
    "'''\n",
    "\n",
    "# construct iterable list of detection parameter objects for starmap\n",
    "inputs = []\n",
    "for f in files:\n",
    "    input_val = [f,window_length,noverlap]\n",
    "    inputs.append(input_val)\n",
    "\n",
    "# start parallel pool\n",
    "nprocs = 4\n",
    "multiprocessing.freeze_support()\n",
    "if __name__ == '__main__':\n",
    "    p = multiprocessing.Pool(processes=nprocs)\n",
    "    for result in p.starmap(compute_and_plot_spectrogram,inputs):\n",
    "        f,t,s,channel = result[0],result[1],result[2],result[3]\n",
    "    p.close()\n",
    "    p.join()"
   ]
  },
  {
   "cell_type": "code",
   "execution_count": 3,
   "id": "54c2a3a3",
   "metadata": {},
   "outputs": [],
   "source": [
    "# get list of all continuous channel files\n",
    "path = \"/1-fnp/pnwstore1/p-wd05/greenland/data/channel/\"\n",
    "files = glob.glob(path+\"/*\")\n",
    "\n",
    "# list any already-processed files\n",
    "out_path = \"/fd1/solinger/spectrograms/\"\n",
    "out_files = glob.glob(out_path+\"/*h5\")\n",
    "for out_f in out_files:\n",
    "    for i,f in enumerate(files):\n",
    "        if out_f.split(\"/\")[4].split(\".\")[0] in f:\n",
    "            del files[i]\n",
    "\n",
    "# sort by channel\n",
    "channels = list(map(int,[f.split(\"_\")[1].split(\".\")[0] for f in files]))\n",
    "sort_idx = np.argsort(channels)\n",
    "files = np.array(files)[sort_idx]\n",
    "channels = np.array(channels)[sort_idx]"
   ]
  },
  {
   "cell_type": "code",
   "execution_count": 6,
   "id": "61bee769",
   "metadata": {},
   "outputs": [],
   "source": [
    "'''\n",
    "\n",
    "Get spectrogram data for each channel\n",
    "\n",
    "'''\n",
    "\n",
    "# construct iterable list of detection parameter objects for starmap\n",
    "inputs = []\n",
    "for f in files:\n",
    "    input_val = [f,window_length,noverlap]\n",
    "    inputs.append(input_val)\n",
    "\n",
    "# start parallel pool\n",
    "nprocs = 24\n",
    "multiprocessing.freeze_support()\n",
    "if __name__ == '__main__':\n",
    "    p = multiprocessing.Pool(processes=nprocs)\n",
    "    for result in p.starmap(compute_and_save_spectrogram,inputs):\n",
    "        f,t,s,channel = result[0],result[1],result[2],result[3]\n",
    "    p.close()\n",
    "    p.join()"
   ]
  },
  {
   "cell_type": "code",
   "execution_count": 10,
   "id": "b600d495",
   "metadata": {},
   "outputs": [],
   "source": [
    "f = h5py.File('/fd1/solinger/spectrograms/channel_1031.h5','r')\n"
   ]
  },
  {
   "cell_type": "code",
   "execution_count": null,
   "id": "a72be150",
   "metadata": {},
   "outputs": [],
   "source": [
    "'''\n",
    "\n",
    "Make spatial spectrogram\n",
    "\n",
    "'''\n",
    "\n",
    "# choose frequency bins\n",
    "\n",
    "# sum spectrogram within those frequency bins for each channel\n",
    "\n",
    "# for each frequency bin, pull out the corresponding data from each channel\n",
    "\n",
    "# plot the spatial spectrogram"
   ]
  }
 ],
 "metadata": {
  "kernelspec": {
   "display_name": "seismo (SHARED)",
   "language": "python",
   "name": "seismo"
  },
  "language_info": {
   "codemirror_mode": {
    "name": "ipython",
    "version": 3
   },
   "file_extension": ".py",
   "mimetype": "text/x-python",
   "name": "python",
   "nbconvert_exporter": "python",
   "pygments_lexer": "ipython3",
   "version": "3.8.13"
  }
 },
 "nbformat": 4,
 "nbformat_minor": 5
}
