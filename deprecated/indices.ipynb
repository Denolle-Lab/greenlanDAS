{
 "cells": [
  {
   "cell_type": "code",
   "execution_count": 1,
   "id": "a7bd97d6",
   "metadata": {},
   "outputs": [],
   "source": [
    "using Combinatorics, Statistics"
   ]
  },
  {
   "cell_type": "code",
   "execution_count": 62,
   "id": "028d31aa",
   "metadata": {},
   "outputs": [
    {
     "data": {
      "text/plain": [
       "902496×2 Matrix{Int64}:\n",
       "    2  2688\n",
       "    3  2687\n",
       "    3  2688\n",
       "    4  2686\n",
       "    4  2687\n",
       "    4  2688\n",
       "    5  2685\n",
       "    5  2686\n",
       "    5  2687\n",
       "    5  2688\n",
       "    6  2684\n",
       "    6  2685\n",
       "    6  2686\n",
       "    ⋮  \n",
       " 1344  2677\n",
       " 1344  2678\n",
       " 1344  2679\n",
       " 1344  2680\n",
       " 1344  2681\n",
       " 1344  2682\n",
       " 1344  2683\n",
       " 1344  2684\n",
       " 1344  2685\n",
       " 1344  2686\n",
       " 1344  2687\n",
       " 1344  2688"
      ]
     },
     "execution_count": 62,
     "metadata": {},
     "output_type": "execute_result"
    }
   ],
   "source": [
    "# set number of channels\n",
    "n = 2688\n",
    "chans = collect(1:n)\n",
    "indices = [j for j in combinations(chans,2)]\n",
    "indices = reduce(vcat,transpose.(indices))\n",
    "\n",
    "# leg one pairs\n",
    "leg1_chans = collect(1:Int(n/2))\n",
    "leg1_indices = [j for j in combinations(leg1_chans,2)]\n",
    "leg1_indices = reduce(vcat,transpose.(leg1_indices))\n",
    "\n",
    "# leg two pairs\n",
    "leg2_chans = collect(Int(n/2)+1:n)\n",
    "leg2_indices = [j for j in combinations(leg2_chans,2)]\n",
    "leg2_indices = reduce(vcat,transpose.(leg2_indices))\n",
    "\n",
    "# cross cable pairs\n",
    "midpoint = Int64(n/2)\n",
    "cross_indices = indices[indices[:,1] .<= midpoint,:]\n",
    "cross_indices = cross_indices[cross_indices[:,2] .> midpoint,:]\n",
    "\n",
    "# leg three pairs\n",
    "leg3_indices = reduce(vcat,sum(cross_indices,dims=2) .<= n)\n",
    "leg3_indices = cross_indices[leg3_indices, :]\n",
    "\n",
    "# leg four pairs\n",
    "leg4_indices = reduce(vcat,sum(cross_indices,dims=2) .> n+1)\n",
    "leg4_indices = cross_indices[leg4_indices, :]"
   ]
  },
  {
   "cell_type": "code",
   "execution_count": 73,
   "id": "2f68fe78",
   "metadata": {},
   "outputs": [
    {
     "data": {
      "text/plain": [
       "902496×2 Matrix{Int64}:\n",
       "    1  1345\n",
       "    1  1346\n",
       "    1  1347\n",
       "    1  1348\n",
       "    1  1349\n",
       "    1  1350\n",
       "    1  1351\n",
       "    1  1352\n",
       "    1  1353\n",
       "    1  1354\n",
       "    1  1355\n",
       "    1  1356\n",
       "    1  1357\n",
       "    ⋮  \n",
       " 1339  1348\n",
       " 1339  1349\n",
       " 1340  1345\n",
       " 1340  1346\n",
       " 1340  1347\n",
       " 1340  1348\n",
       " 1341  1345\n",
       " 1341  1346\n",
       " 1341  1347\n",
       " 1342  1345\n",
       " 1342  1346\n",
       " 1343  1345"
      ]
     },
     "execution_count": 73,
     "metadata": {},
     "output_type": "execute_result"
    }
   ],
   "source": [
    "leg3_indices"
   ]
  },
  {
   "cell_type": "code",
   "execution_count": null,
   "id": "a19ae2e0",
   "metadata": {},
   "outputs": [],
   "source": []
  }
 ],
 "metadata": {
  "kernelspec": {
   "display_name": "julia 1.8.5",
   "language": "julia",
   "name": "julia-1.8"
  },
  "language_info": {
   "file_extension": ".jl",
   "mimetype": "application/julia",
   "name": "julia",
   "version": "1.8.5"
  }
 },
 "nbformat": 4,
 "nbformat_minor": 5
}
