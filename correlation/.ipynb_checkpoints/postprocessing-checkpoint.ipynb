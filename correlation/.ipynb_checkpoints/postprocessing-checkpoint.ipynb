{
 "cells": [
  {
   "cell_type": "code",
<<<<<<< Updated upstream
   "execution_count": null,
   "id": "84a2f242",
   "metadata": {},
   "outputs": [],
=======
   "execution_count": 2,
   "id": "84a2f242",
   "metadata": {},
   "outputs": [
    {
     "data": {
      "text/plain": [
       "compute_rms (generic function with 3 methods)"
      ]
     },
     "execution_count": 2,
     "metadata": {},
     "output_type": "execute_result"
    }
   ],
>>>>>>> Stashed changes
   "source": [
    "using SeisNoise, PyPlot, CUDA, Glob, HDF5, Combinatorics, Random, Statistics, ImageFiltering, FFTW, JLD2, Dates\n",
    "import SeisNoise: NoiseData\n",
    "import SeisIO: read_nodal, NodalData, InstrumentPosition, InstrumentResponse, show_str, show_t, show_x, show_os\n",
    "import FFTW: rfft, irfft\n",
<<<<<<< Updated upstream
    "import Base:show, size, summary\n",
=======
    "import DSP: hilbert\n",
    "import Images: findlocalmaxima\n",
    "import Base:show, size, summary\n",
    "import PyCall\n",
    "import FiniteDifferences\n",
    "anim = PyCall.pyimport(\"matplotlib.animation\")\n",
>>>>>>> Stashed changes
    "include(\"Types.jl\")\n",
    "include(\"Nodal.jl\")\n",
    "include(\"Misc.jl\")"
   ]
  },
  {
   "cell_type": "code",
<<<<<<< Updated upstream
   "execution_count": null,
   "id": "a55330fb",
   "metadata": {},
   "outputs": [],
   "source": [
=======
   "execution_count": 3,
   "id": "a55330fb",
   "metadata": {},
   "outputs": [
    {
     "data": {
      "text/plain": [
       "331"
      ]
     },
     "execution_count": 3,
     "metadata": {},
     "output_type": "execute_result"
    }
   ],
   "source": [
    "\"\n",
    "\n",
    "Set postprocessing parameters\n",
    "\n",
    "\"\n",
    "\n",
>>>>>>> Stashed changes
    "# list all the Greenland files\n",
    "path = \"/1-fnp/petasaur/p-wd03/greenland/Store Glacier DAS data/\"\n",
    "files_1khz = glob(\"1kHz/*\",path)\n",
    "N = read_nodal(\"segy\", files_1khz[2])\n",
    "\n",
    "# processing parameters\n",
    "freqmin, freqmax = 20,50\n",
    "sgn = \"both\"\n",
<<<<<<< Updated upstream
    "cmin,cmax = 1000,4000\n",
=======
    "cmin,cmax = 750,4250\n",
>>>>>>> Stashed changes
    "maxlag = 1\n",
    "\n",
    "# choose channels\n",
    "chan_start = 331\n",
<<<<<<< Updated upstream
    "chan_end = Int64(N.n-chan_start+1)\n",
=======
    "chan_end = 2391\n",
>>>>>>> Stashed changes
    "chans = [chan_start,chan_end]\n",
    "\n",
    "# choose virtual source locations\n",
    "source_chan = 331"
   ]
  },
  {
   "cell_type": "code",
   "execution_count": null,
   "id": "cbf1c3c6",
   "metadata": {},
   "outputs": [],
   "source": [
<<<<<<< Updated upstream
    "# list all correlation files\n",
    "path = string(\"/1-fnp/pnwstore1/p-wd05/greenland/correlations/fk_\",cmin,\"_\",cmax,\"/all/fk_\",sgn,\"/\")\n",
    "files = glob(\"*\",path)\n",
    "files = files[BitVector(1 .- contains.(files,\"error\"))]\n",
    "\n",
=======
    "\"\n",
    "\n",
    "Stack all the correlations\n",
    "\n",
    "\"\n",
    "\n",
    "# list all correlation files\n",
    "#path = string(\"/1-fnp/pnwstore1/p-wd05/greenland/correlations/fk_\",cmin,\"_\",cmax,\"/all/fk_\",sgn,\"/\")\n",
    "path = string(\"/fd1/solinger/correlations/fk_\",cmin,\"_\",cmax,\"/\")\n",
    "files = glob(\"*\",path)\n",
    "files = files[BitVector(1 .- contains.(files,\"error\"))]\n",
    "\n",
    "# subset further in time\n",
    "files = files[56:end] \n",
    "\n",
>>>>>>> Stashed changes
    "# read results and stack\n",
    "C = load(files[1])[\"NodalCorrData\"]\n",
    "for f in files[2:end]\n",
    "    C.corr = C.corr + JLD2.load(f)[\"NodalCorrData\"].corr\n",
<<<<<<< Updated upstream
    "end"
   ]
  },
  {
   "cell_type": "code",
   "execution_count": null,
   "id": "d42476d1",
   "metadata": {},
   "outputs": [],
   "source": [
    "# save stack\n",
    "fname = string(\"/fd1/solinger/correlations/stack.jld2\")\n",
=======
    "end\n",
    "\n",
    "# save stack\n",
    "fname = string(\"/fd1/solinger/correlations/fk_\",cmin,\"_\",cmax,\"/2019-07-08_stack.jld2\")\n",
>>>>>>> Stashed changes
    "JLD2.save(fname,Dict(\"NodalCorrData\"=>C))"
   ]
  },
  {
   "cell_type": "code",
<<<<<<< Updated upstream
   "execution_count": null,
   "id": "d1ee21bc",
   "metadata": {},
   "outputs": [],
   "source": [
    "# read stack\n",
    "fname = string(\"/fd1/solinger/correlations/stack.jld2\")\n",
=======
   "execution_count": 7,
   "id": "d1ee21bc",
   "metadata": {},
   "outputs": [
    {
     "ename": "LoadError",
     "evalue": "ArgumentError: No file exists at given path: /fd1/solinger/correlations/fk_750_4250/high_res_correlations_2019-07-07T10:00:22.jld2",
     "output_type": "error",
     "traceback": [
      "ArgumentError: No file exists at given path: /fd1/solinger/correlations/fk_750_4250/high_res_correlations_2019-07-07T10:00:22.jld2",
      "",
      "Stacktrace:",
      " [1] checkpath_load",
      "   @ ~/.julia/packages/FileIO/aP78L/src/loadsave.jl:167 [inlined]",
      " [2] load(::String; options::Base.Pairs{Symbol, Union{}, Tuple{}, NamedTuple{(), Tuple{}}})",
      "   @ FileIO ~/.julia/packages/FileIO/aP78L/src/loadsave.jl:110",
      " [3] load(::String)",
      "   @ FileIO ~/.julia/packages/FileIO/aP78L/src/loadsave.jl:109",
      " [4] top-level scope",
      "   @ In[7]:10"
     ]
    }
   ],
   "source": [
    "\"\n",
    "\n",
    "Filter and carry out cross cable stacking\n",
    "\n",
    "\"\n",
    "\n",
    "# read stack\n",
    "#fname = string(\"/fd1/solinger/correlations/fk_\",cmin,\"_\",cmax,\"/2019-07-08_stack.jld2\")\n",
    "fname = string(\"/fd1/solinger/correlations/fk_\",cmin,\"_\",cmax,\"/high_res_correlations_2019-07-08T10:52:22.jld2\")\n",
>>>>>>> Stashed changes
    "C = JLD2.load(fname)[\"NodalCorrData\"]\n",
    "\n",
    "# postprocessing\n",
    "C_filt = deepcopy(C)\n",
    "clean_up!(C_filt,freqmin,freqmax)\n",
    "\n",
    "# stack across cable\n",
    "corr_stack = cross_cable_stack(C_filt,collect(chans[1]:chans[2]))\n",
    "C_cross_stack = deepcopy(C_filt)\n",
    "C_cross_stack.corr = corr_stack\n",
    "\n",
    "# normalize post-stack\n",
    "abs_max!(C_cross_stack)\n",
    "abs_max!(C_filt)"
   ]
  },
  {
   "cell_type": "code",
<<<<<<< Updated upstream
=======
   "execution_count": 8,
   "id": "847ae819",
   "metadata": {},
   "outputs": [
    {
     "data": {
      "text/plain": [
       "2001×2122830 Matrix{Float32}:\n",
       " 0.0  0.0  0.0  0.0  0.0  0.0  0.0  0.0  …  0.0  0.0  0.0  0.0  0.0  0.0  0.0\n",
       " 0.0  0.0  0.0  0.0  0.0  0.0  0.0  0.0     0.0  0.0  0.0  0.0  0.0  0.0  0.0\n",
       " 0.0  0.0  0.0  0.0  0.0  0.0  0.0  0.0     0.0  0.0  0.0  0.0  0.0  0.0  0.0\n",
       " 0.0  0.0  0.0  0.0  0.0  0.0  0.0  0.0     0.0  0.0  0.0  0.0  0.0  0.0  0.0\n",
       " 0.0  0.0  0.0  0.0  0.0  0.0  0.0  0.0     0.0  0.0  0.0  0.0  0.0  0.0  0.0\n",
       " 0.0  0.0  0.0  0.0  0.0  0.0  0.0  0.0  …  0.0  0.0  0.0  0.0  0.0  0.0  0.0\n",
       " 0.0  0.0  0.0  0.0  0.0  0.0  0.0  0.0     0.0  0.0  0.0  0.0  0.0  0.0  0.0\n",
       " 0.0  0.0  0.0  0.0  0.0  0.0  0.0  0.0     0.0  0.0  0.0  0.0  0.0  0.0  0.0\n",
       " 0.0  0.0  0.0  0.0  0.0  0.0  0.0  0.0     0.0  0.0  0.0  0.0  0.0  0.0  0.0\n",
       " 0.0  0.0  0.0  0.0  0.0  0.0  0.0  0.0     0.0  0.0  0.0  0.0  0.0  0.0  0.0\n",
       " 0.0  0.0  0.0  0.0  0.0  0.0  0.0  0.0  …  0.0  0.0  0.0  0.0  0.0  0.0  0.0\n",
       " 0.0  0.0  0.0  0.0  0.0  0.0  0.0  0.0     0.0  0.0  0.0  0.0  0.0  0.0  0.0\n",
       " 0.0  0.0  0.0  0.0  0.0  0.0  0.0  0.0     0.0  0.0  0.0  0.0  0.0  0.0  0.0\n",
       " ⋮                        ⋮              ⋱            ⋮                   \n",
       " 0.0  0.0  0.0  0.0  0.0  0.0  0.0  0.0     0.0  0.0  0.0  0.0  0.0  0.0  0.0\n",
       " 0.0  0.0  0.0  0.0  0.0  0.0  0.0  0.0  …  0.0  0.0  0.0  0.0  0.0  0.0  0.0\n",
       " 0.0  0.0  0.0  0.0  0.0  0.0  0.0  0.0     0.0  0.0  0.0  0.0  0.0  0.0  0.0\n",
       " 0.0  0.0  0.0  0.0  0.0  0.0  0.0  0.0     0.0  0.0  0.0  0.0  0.0  0.0  0.0\n",
       " 0.0  0.0  0.0  0.0  0.0  0.0  0.0  0.0     0.0  0.0  0.0  0.0  0.0  0.0  0.0\n",
       " 0.0  0.0  0.0  0.0  0.0  0.0  0.0  0.0     0.0  0.0  0.0  0.0  0.0  0.0  0.0\n",
       " 0.0  0.0  0.0  0.0  0.0  0.0  0.0  0.0  …  0.0  0.0  0.0  0.0  0.0  0.0  0.0\n",
       " 0.0  0.0  0.0  0.0  0.0  0.0  0.0  0.0     0.0  0.0  0.0  0.0  0.0  0.0  0.0\n",
       " 0.0  0.0  0.0  0.0  0.0  0.0  0.0  0.0     0.0  0.0  0.0  0.0  0.0  0.0  0.0\n",
       " 0.0  0.0  0.0  0.0  0.0  0.0  0.0  0.0     0.0  0.0  0.0  0.0  0.0  0.0  0.0\n",
       " 0.0  0.0  0.0  0.0  0.0  0.0  0.0  0.0     0.0  0.0  0.0  0.0  0.0  0.0  0.0\n",
       " 0.0  0.0  0.0  0.0  0.0  0.0  0.0  0.0  …  0.0  0.0  0.0  0.0  0.0  0.0  0.0"
      ]
     },
     "execution_count": 8,
     "metadata": {},
     "output_type": "execute_result"
    }
   ],
   "source": [
    "#fname = string(\"/fd1/solinger/correlations/fk_\",cmin,\"_\",cmax,\"/2019-07-08_stack.jld2\")\n",
    "fname = string(\"/fd1/solinger/correlations/fk_\",cmin,\"_\",cmax,\"/high_res_correlations_2019-07-08T10:52:22.jld2\")\n",
    "C = JLD2.load(fname)[\"NodalCorrData\"]\n",
    "\n",
    "C.corr"
   ]
  },
  {
   "cell_type": "code",
>>>>>>> Stashed changes
   "execution_count": null,
   "id": "1411544f",
   "metadata": {
    "scrolled": false
   },
   "outputs": [],
   "source": [
<<<<<<< Updated upstream
    "# plot results\n",
    "midpoint = Int64(chans[1]+(chans[2]+1-chans[1])/2-1)\n",
    "plot_chans = [chans[1],midpoint]\n",
    "title = string(\"Stacked correlation functions at \",freqmin,\"-\",freqmax,\" Hz (virtual source at surface)\")\n",
    "fname = string(\"/fd1/solinger/correlation_figures/fk_\",sgn,\"_\",cmin,\"_\",cmax,\"1khz_stack_cross_\",freqmin,\"-\",freqmax,\n",
    "               \"Hz_source_\",source_chan,\".png\")\n",
    "plot_correlations(C_cross_stack,\"common shot\",maxlag,plot_chans,source_chan,330,title,\"\",75,\"gray\")"
=======
    "\"\n",
    "\n",
    "Plot stack for surface source\n",
    "\n",
    "\"\n",
    "\n",
    "# plot results\n",
    "n = chans[end] - (chans[1])\n",
    "midpoint = (chans[1]) + Int64(n/2)\n",
    "plot_chans = [chans[1],midpoint]\n",
    "title = string(\"Stacked correlation functions at \",freqmin,\"-\",freqmax,\" Hz (virtual source at surface)\")\n",
    "fname = string(\"/fd1/solinger/correlation_figures/fk_\",sgn,\"_\",cmin,\"_\",cmax,\"_2019-07-08_stack_cross_\",freqmin,\"-\",freqmax,\n",
    "               \"Hz_source_\",source_chan,\".png\")\n",
    "plot_correlations(C_cross_stack,\"common shot\",maxlag,plot_chans,source_chan,330,title,fname,75,\"gray\")"
   ]
  },
  {
   "cell_type": "code",
   "execution_count": null,
   "id": "7c42e5fc",
   "metadata": {},
   "outputs": [],
   "source": [
    "\"\n",
    "\n",
    "Measure P-wave velocity with depth\n",
    "\n",
    "\"\n",
    "\n",
    "# get indices of correct correlations\n",
    "indices = [j for j in combinations(collect(chans[1]:midpoint),2)]\n",
    "indices = reduce(vcat,transpose.(indices))\n",
    "ssp_ind = vec(indices[:,1] .== source_chan .|| indices[:,2] .== source_chan)\n",
    "\n",
    "# load correlation into dummy NodalData\n",
    "NC = NodalData()\n",
    "NC.data = C_cross_stack.corr[:,ssp_ind]\n",
    "NC.misc = C_cross_stack.misc\n",
    "NC.fs = C_cross_stack.fs\n",
    "NC.n = sum(ssp_ind)\n",
    "\n",
    "# fk filter to remove other phases\n",
    "NC_fft = rfft(nc,[1,2])\n",
    "fk!(NC_fft,3800,4250,\"neg\")\n",
    "NC_fk = irfft(NC_fft,[1,2])\n",
    "C_fk = deepcopy(C_cross_stack)\n",
    "C_fk.corr = NC_fk.data\n",
    "\n",
    "# compute envelope value of each correlation function\n",
    "envs = abs.(hilbert(C_fk.corr))\n",
    "\n",
    "# zero out some regions\n",
    "envs[480:end,:] .= 0\n",
    "envs[1:440,800:end] .= 0\n",
    "\n",
    "# get max value of massaged envelope functions\n",
    "peaks = argmax(abs.(envs),dims=1)\n",
    "\n",
    "# get time and position of arrivals\n",
    "arrival_times = (getindex.(peaks, 1).-div(size(envs,1),2))./C_fk.fs[1]\n",
    "pos = getindex.(peaks,2)*spacing\n",
    "\n",
    "# migrate the arrival times associated with source at 200m\n",
    "# currently, the discontinuity is manually identified\n",
    "disc = 288\n",
    "migr_arrivals = deepcopy(arrival_times)\n",
    "migr_arrivals[disc:end] = migr_arrivals[disc:end].+migr_arrivals[disc-1].-migr_arrivals[disc]\n",
    "\n",
    "# get phase velocity\n",
    "phase_velocity = pos ./ migr_arrivals\n",
    "\n",
    "# get phase velocity assuming some offset\n",
    "offset = 250\n",
    "theta = atan.(pos./offset)\n",
    "offset_velocity = sin.(theta) .* pos ./ migr_arrivals\n",
    "\n",
    "# use unique arrival times to estimate velocity down the cable \n",
    "unique_ind = unique(i -> migr_arrivals[i], 1:length(migr_arrivals))\n",
    "unique_arrivals = unique(migr_arrivals)\n",
    "unique_pos = pos[unique_ind]\n",
    "phase_velocity2 = diff(unique_pos,dims=1) ./ diff(unique_arrivals,dims=1)\n",
    "theta2 = atan.(unique_pos./offset)[2:end]\n",
    "offset_velocity2 = sin.(theta2) .* diff(unique_pos,dims=1) ./ diff(unique_arrivals,dims=1)\n",
    "\n",
    "# make a plot of the correlations and phase velocity\n",
    "spacing = (C.misc[4][\"shot_point\"]-C.misc[3][\"shot_point\"])/1000\n",
    "profile_start = (indices[ssp_ind,1][1] - chans[1]) * spacing\n",
    "profile_end = (indices[ssp_ind,2][end] - chans[1]) * spacing\n",
    "figure(figsize=(10,10))\n",
    "extent=[-maxlag,maxlag,profile_end,profile_start]\n",
    "imshow(C_fk.corr', cmap=\"gray\", interpolation=:none, aspect=\"auto\",extent=extent)\n",
    "ylabel(\"Distance from surface (m)\",fontsize=15)\n",
    "xlabel(\"Lag (s)\",fontsize=15)\n",
    "xticks(fontsize=12)\n",
    "yticks(fontsize=12)\n",
    "plt.scatter(arrival_times,pos,c=\"red\",marker=\"^\",s=5)"
   ]
  },
  {
   "cell_type": "code",
   "execution_count": null,
   "id": "1882b7d1",
   "metadata": {},
   "outputs": [],
   "source": [
    "\"\n",
    "\n",
    "Plot P-wave velocity as a function of depth\n",
    "\n",
    "\"\n",
    "\n",
    "fig, ax = plt.subplots(figsize=(15,10))\n",
    "ax.scatter(phase_velocity[isfinite.(phase_velocity)],pos[isfinite.(phase_velocity)],c=\"orange\",label=\"VSP\")\n",
    "#ax.scatter(phase_velocity2,unique_pos[2:end],c=\"orange\",marker=\"^\",s=100)\n",
    "#ax.scatter(offset_velocity[isfinite.(offset_velocity)],pos[isfinite.(offset_velocity)],c=\"r\",label=\"Offset VSP\")\n",
    "#ax.scatter(offset_velocity2,unique_pos[2:end],c=\"r\",marker=\"^\",s=100)\n",
    "ax.set_ylim(pos[1],pos[end])\n",
    "ax.invert_yaxis()\n",
    "ax.set_ylabel(\"Depth (m)\")\n",
    "ax.set_xlabel(\"Time (s)\")\n",
    "plt.legend()\n",
    "ax.set_xlim(2000,6000)\n",
    "plt.show()\n",
    "\n",
    "# ax.plot(phase_velocity,unique_pos[2:end],c=\"r\")\n",
    "# ax.set_ylim(unique_pos[1],unique_pos[end])\n",
    "# ax.invert_yaxis()\n",
    "# ax.set_ylabel(\"Depth (m)\")\n",
    "# ax.set_xlabel(\"Time (s)\")\n",
    "# ax.set_xlim(3000,6000)\n",
    "# plt.show()"
   ]
  },
  {
   "cell_type": "code",
   "execution_count": null,
   "id": "687d6b24",
   "metadata": {},
   "outputs": [],
   "source": [
    "\"\n",
    "\n",
    "Measure S-wave velocity with depth\n",
    "\n",
    "\"\n",
    "\n",
    "# get indices of correct correlations\n",
    "indices = [j for j in combinations(collect(chans[1]:midpoint),2)]\n",
    "indices = reduce(vcat,transpose.(indices))\n",
    "ssp_ind = vec(indices[:,1] .== source_chan .|| indices[:,2] .== source_chan)\n",
    "\n",
    "# load correlation into dummy NodalData\n",
    "NC = NodalData()\n",
    "NC.data = C_cross_stack.corr[:,ssp_ind]\n",
    "NC.misc = C_cross_stack.misc\n",
    "NC.fs = C_cross_stack.fs\n",
    "NC.n = sum(ssp_ind)\n",
    "\n",
    "# fk filter to remove other phases\n",
    "NC_fft = rfft(nc,[1,2])\n",
    "fk!(NC_fft,1750,2250,\"neg\")\n",
    "NC_fk = irfft(NC_fft,[1,2])\n",
    "C_fk = deepcopy(C_cross_stack)\n",
    "C_fk.corr = NC_fk.data\n",
    "\n",
    "# compute envelope value of each correlation function\n",
    "envs = abs.(hilbert(C_fk.corr))\n",
    "\n",
    "# zero out some regions\n",
    "envs[1:460,400:end] .= 0\n",
    "envs[1:520,900:end] .= 0\n",
    "\n",
    "# get first and second max values of massaged envelope functions\n",
    "peaks = argmax(abs.(envs),dims=1)\n",
    "\n",
    "# get indices of two largest envelope maxima\n",
    "first_peaks = zeros(0)\n",
    "second_peaks = zeros(0)\n",
    "for i in range(1,size(envs,2))\n",
    "    \n",
    "    # get all maxima\n",
    "    peak_inds = findlocalmaxima(envs[:,i])\n",
    "    peak_inds = (getindex.(peak_inds, 1))\n",
    "    \n",
    "    # save index of largest peak\n",
    "    max_ind = argmax(envs[:,i][peak_inds])\n",
    "    append!(first_peaks,peak_inds[max_ind])\n",
    "    \n",
    "    # remove that element\n",
    "    peak_inds = deleteat!(peak_inds, max_ind)\n",
    "    \n",
    "    # save index of second largest peak\n",
    "    max_ind = argmax(envs[:,i][peak_inds])\n",
    "    append!(second_peaks,peak_inds[max_ind])\n",
    "end\n",
    "\n",
    "# find first maxima and second maxima\n",
    "both_peaks = hcat(first_peaks,second_peaks)\n",
    "second_ind = argmax(both_peaks,dims=2)\n",
    "second_peaks = both_peaks[second_ind]\n",
    "first_ind = argmin(both_peaks,dims=2)\n",
    "first_peaks = both_peaks[first_ind]\n",
    "\n",
    "# get time and position of arrivals\n",
    "arrival_times = (getindex.(peaks, 1).-div(size(envs,1),2))./C_fk.fs[1]\n",
    "\n",
    "first_arrival_times = (first_peaks.-div(size(envs,1),2))./C_fk.fs[1]\n",
    "first_arrival_times = first_arrival_times'\n",
    "second_arrival_times = (second_peaks.-div(size(envs,1),2))./C_fk.fs[1]\n",
    "second_arrival_times = second_arrival_times'\n",
    "pos = getindex.(peaks,2)*spacing\n",
    "\n",
    "# get phase velocities\n",
    "first_phase_velocity = pos ./ (first_arrival_times.-first_arrival_times[1])\n",
    "second_phase_velocity = pos ./ (second_arrival_times.-second_arrival_times[1])\n",
    "\n",
    "# get phase velocity assuming some offset\n",
    "offset = 300\n",
    "theta = atan.(pos./offset)\n",
    "offset_velocity = sin.(theta) .* pos ./ (first_arrival_times.-first_arrival_times[1])\n",
    "\n",
    "# use unique arrival times to estimate velocity down the cable \n",
    "unique_ind = unique(i -> first_arrival_times[i], 1:length(first_arrival_times))\n",
    "unique_arrivals = unique(first_arrival_times)\n",
    "unique_pos = pos[unique_ind]\n",
    "phase_velocity2 = diff(unique_pos,dims=1) ./ diff(unique_arrivals,dims=1)\n",
    "theta2 = atan.(unique_pos./offset)[2:end]\n",
    "offset_velocity2 = sin.(theta2) .* diff(unique_pos,dims=1) ./ diff(unique_arrivals,dims=1)\n",
    "\n",
    "# make a plot of the correlations and phase velocity\n",
    "spacing = (C.misc[4][\"shot_point\"]-C.misc[3][\"shot_point\"])/1000\n",
    "profile_start = (indices[ssp_ind,1][1] - chans[1]) * spacing\n",
    "profile_end = (indices[ssp_ind,2][end] - chans[1]) * spacing\n",
    "figure(figsize=(10,10))\n",
    "extent=[-maxlag,maxlag,profile_end,profile_start]\n",
    "imshow(C_fk.corr', cmap=\"gray\", interpolation=:none, aspect=\"auto\",extent=extent)\n",
    "ylabel(\"Distance from surface (m)\",fontsize=15)\n",
    "xlabel(\"Lag (s)\",fontsize=15)\n",
    "xticks(fontsize=12)\n",
    "yticks(fontsize=12)\n",
    "plt.scatter(first_arrival_times,pos,c=\"blue\",marker=\"^\",s=5)\n",
    "plt.scatter(second_arrival_times,pos,c=\"orange\",marker=\"^\",s=5)"
   ]
  },
  {
   "cell_type": "code",
   "execution_count": null,
   "id": "15f6768a",
   "metadata": {},
   "outputs": [],
   "source": [
    "\"\n",
    "\n",
    "Plot S wave velocity (1)\n",
    "\n",
    "\"\n",
    "\n",
    "fig, ax = plt.subplots(figsize=(15,10))\n",
    "ax.scatter(first_phase_velocity[isfinite.(first_phase_velocity)],pos[isfinite.(first_phase_velocity)],c=\"blue\",label=\"VSP\")\n",
    "ax.scatter(phase_velocity2,unique_pos[2:end],c=\"blue\",marker=\"^\",s=100)\n",
    "ax.scatter(offset_velocity[isfinite.(offset_velocity)],pos[isfinite.(offset_velocity)],c=\"teal\",label=\"Offset VSP\")\n",
    "ax.scatter(offset_velocity2,unique_pos[2:end],c=\"teal\",marker=\"^\",s=100)\n",
    "plt.legend()\n",
    "ax.set_ylim(pos[1],pos[end])\n",
    "ax.invert_yaxis()\n",
    "ax.set_ylabel(\"Depth (m)\")\n",
    "ax.set_xlabel(\"Time (s)\")\n",
    "ax.set_xlim(1000,3000)\n",
    "plt.show()"
   ]
  },
  {
   "cell_type": "code",
   "execution_count": null,
   "id": "c6386fb0",
   "metadata": {},
   "outputs": [],
   "source": [
    "\"\n",
    "\n",
    "Plot S wave velocity (2)\n",
    "\n",
    "\"\n",
    "\n",
    "fig, ax = plt.subplots(figsize=(15,10))\n",
    "ax.scatter(first_phase_velocity,pos,c=\"orange\")\n",
    "ax.set_ylim(pos[1],pos[end])\n",
    "ax.invert_yaxis()\n",
    "ax.set_ylabel(\"Depth (m)\")\n",
    "ax.set_xlabel(\"Time (s)\")\n",
    "ax.set_xlim(1000,2500)\n",
    "plt.show()"
>>>>>>> Stashed changes
   ]
  },
  {
   "cell_type": "code",
   "execution_count": null,
   "id": "e6ad7d4a",
   "metadata": {},
   "outputs": [],
   "source": [
<<<<<<< Updated upstream
    "# plot cross cable stack results for all sources\n",
    "midpoint = Int64(chans[1]+(chans[2]+1-chans[1])/2-1)\n",
=======
    "\"\n",
    "\n",
    "Plot stack for each virtual source\n",
    "\n",
    "\"\n",
    "\n",
    "# plot cross cable stack results for all sources\n",
    "n = chans[end] - (chans[1])\n",
    "midpoint = (chans[1]) + Int64(n/2)\n",
>>>>>>> Stashed changes
    "plot_chans = [chans[1],midpoint]\n",
    "for chan_i = plot_chans[1]:plot_chans[2]\n",
    "    title = string(\"Stacked correlation functions at \",freqmin,\"-\",freqmax,\n",
    "               \"Hz (virtual source at channel \",chan_i,\")\")\n",
<<<<<<< Updated upstream
    "    fname = string(\"/fd1/solinger/correlation_figures/fk_\",sgn,\"_\",cmin,\"_\",cmax,\n",
    "               \"1khz_stack_cross_\",freqmin,\"-\",freqmax,\"Hz_source_\",chan_i,\".png\")\n",
    "    plot_correlations(C_cross_stack,\"common shot\",maxlag,plot_chans,chan_i,330,title,fname,75,\"gray\")\n",
=======
    "    fname = string(\"/fd1/solinger/correlation_figures/fk_\",cmin,\"_\",cmax,\n",
    "               \"/all_sources/stack_cross_\",freqmin,\"-\",freqmax,\"Hz_source_\",chan_i,\".png\")\n",
    "    plot_correlations(C_cross_stack,\"common shot\",maxlag,plot_chans,chan_i,331,title,fname,75,\"gray\")\n",
>>>>>>> Stashed changes
    "    PyPlot.close()\n",
    "end"
   ]
  },
  {
   "cell_type": "code",
   "execution_count": null,
   "id": "ea28458f",
   "metadata": {},
   "outputs": [],
   "source": [
<<<<<<< Updated upstream
=======
    "\"\n",
    "\n",
    "Postprocess and plot each hourly stack\n",
    "\n",
    "\"\n",
    "\n",
>>>>>>> Stashed changes
    "# list all the Greenland files\n",
    "path = \"/1-fnp/petasaur/p-wd03/greenland/Store Glacier DAS data/\"\n",
    "files_1khz = glob(\"1kHz/*\",path)\n",
    "N = read_nodal(\"segy\", files_1khz[2])\n",
    "\n",
    "# processing parameters\n",
    "freqmin, freqmax = 20,50\n",
    "sgn = \"both\"\n",
<<<<<<< Updated upstream
    "cmin,cmax = 1000,4000\n",
=======
    "cmin,cmax = 750,4250\n",
>>>>>>> Stashed changes
    "maxlag = 1\n",
    "\n",
    "# choose channels\n",
    "chan_start = 331\n",
<<<<<<< Updated upstream
    "chan_end = Int64(N.n-chan_start+1)\n",
=======
    "chan_end = 2391\n",
>>>>>>> Stashed changes
    "chans = [chan_start,chan_end]\n",
    "\n",
    "# choose virtual source locations\n",
    "source_chan = 331\n",
    "\n",
    "# list all correlation files\n",
<<<<<<< Updated upstream
    "path = string(\"/1-fnp/pnwstore1/p-wd05/greenland/correlations/fk_\",cmin,\"_\",cmax,\"/all/fk_\",sgn,\"/\")\n",
=======
    "path = string(\"/fd1/solinger/correlations/fk_\",cmin,\"_\",cmax,\"/\")\n",
    "#path = string(\"/1-fnp/pnwstore1/p-wd05/greenland/correlations/fk_\",cmin,\"_\",cmax,\"/all/fk_\",sgn,\"/\")\n",
>>>>>>> Stashed changes
    "files = glob(\"*\",path)\n",
    "files = files[BitVector(1 .- contains.(files,\"error\"))]\n",
    "\n",
    "# loop through each hourly stack\n",
    "for f in files\n",
    "    \n",
<<<<<<< Updated upstream
    "    # read stack\n",
    "    C = JLD2.load(f)[\"NodalCorrData\"]\n",
    "    \n",
    "    # postprocess\n",
    "    clean_up!(C,freqmin,freqmax)\n",
    "\n",
    "    # stack across cable\n",
    "    corr_stack = cross_cable_stack(C,collect(chans[1]:chans[2]))\n",
    "    C_cross_stack = C\n",
    "    C_cross_stack.corr = corr_stack\n",
    "\n",
    "    # normalize post-stack\n",
    "    abs_max!(C_cross_stack)\n",
    "\n",
    "    # plot results\n",
    "    midpoint = Int64(chans[1]+(chans[2]+1-chans[1])/2-1)\n",
    "    plot_chans = [chans[1],midpoint]\n",
    "    timestamp = split(split(files[1],\"_\")[5],\".\")[1]\n",
    "    title = string(\"Stacked correlation functions at \",freqmin,\"-\",freqmax,\" Hz (virtual source at surface) at T\",timestamp)\n",
    "    fname = string(\"/fd1/solinger/correlation_figures/hourly_stacks/fk_\",sgn,\"_\",cmin,\"_\",cmax,\"1khz_stack_cross_\",freqmin,\"-\",freqmax,\n",
    "               \"Hz_source_\",source_chan,\"_T\",timestamp,\".png\")\n",
    "    plot_correlations(C_cross_stack,\"common shot\",maxlag,plot_chans,source_chan,330,title,fname,75,\"gray\")\n",
    "end"
   ]
  },
  {
   "cell_type": "code",
   "execution_count": null,
   "id": "31eb6666",
   "metadata": {},
   "outputs": [],
   "source": [
    "# plot first leg results for all sources\n",
    "indices = [j for j in combinations(collect(chans[1]:chans[2]),2)]\n",
    "indices = reduce(vcat,transpose.(indices))\n",
    "leg1_indices = (indices[:,1] .<= midpoint .&& indices[:,2] .<= midpoint)\n",
    "C_leg1 = deepcopy(C_filt)\n",
    "C_leg1.corr = C_filt.corr[:,leg1_indices]\n",
    "\n",
    "# plot results\n",
    "for chan_i = plot_chans[1]:plot_chans[2]\n",
    "    title = string(\"Leg 1 correlation functions at \",freqmin,\"-\",freqmax,\n",
    "               \"Hz (virtual source at channel \",chan_i,\")\")\n",
    "    fname = string(\"/fd1/solinger/correlations/figures/fk_\",cmin,\"_\",cmax,\"/fk_\",sgn,\n",
    "                \"/all_sources/1khz_stack_leg1_\",freqmin,\"-\",freqmax,\"Hz_source_\",chan_i,\".png\")\n",
    "    plot_correlations(C_leg1,\"common shot\",maxlag,plot_chans,chan_i,330,title,fname)\n",
    "    PyPlot.close()\n",
    "end"
   ]
  },
  {
   "cell_type": "code",
   "execution_count": null,
   "id": "ce84f7af",
   "metadata": {},
   "outputs": [],
   "source": [
    "# write a loop code to do every virtual source\n",
    "# animation!"
   ]
  },
  {
   "cell_type": "code",
   "execution_count": null,
   "id": "75ee9af2",
   "metadata": {},
   "outputs": [],
   "source": [
    "# list all correlation files\n",
    "path = string(\"/1-fnp/pnwstore1/p-wd05/greenland/correlations/fk_\",cmin,\"_\",cmax,\"/all/fk_\",sgn,\"/\")\n",
    "files = glob(\"*\",path)\n",
    "files = files[BitVector(1 .- contains.(files,\"error\"))]\n"
   ]
  },
  {
   "cell_type": "code",
   "execution_count": null,
   "id": "791f9256",
   "metadata": {},
   "outputs": [],
   "source": [
    "files"
=======
    "    try\n",
    "        # read stack\n",
    "        C = JLD2.load(f)[\"NodalCorrData\"]\n",
    "\n",
    "        # postprocess\n",
    "        clean_up!(C,freqmin,freqmax)\n",
    "\n",
    "        # stack across cable\n",
    "        corr_stack = cross_cable_stack(C,collect(chans[1]:chans[2]))\n",
    "        C_cross_stack = C\n",
    "        C_cross_stack.corr = corr_stack\n",
    "\n",
    "        # normalize post-stack\n",
    "        abs_max!(C_cross_stack)\n",
    "\n",
    "        # plot results\n",
    "        n = chans[2] - (chans[1])\n",
    "        midpoint = (chans[1]) + Int64(n/2)\n",
    "        plot_chans = [chans[1],midpoint]\n",
    "        timestamp = split(split(f,\"_\")[4],\".\")[1]\n",
    "        datetime = Dates.DateTime(timestamp)-Hour(1)\n",
    "        datestring = string(datetime)\n",
    "        title = string(\"Stacked correlation functions at \",freqmin,\"-\",freqmax,\" Hz (virtual source at surface) at \",datestring)\n",
    "        fname = string(\"/fd1/solinger/correlation_figures/hourly_stacks/fk_\",sgn,\"_\",cmin,\"_\",cmax,\"_1khz_stack_cross_\",freqmin,\"-\",freqmax,\n",
    "                   \"Hz_source_\",source_chan,\"_T\",datestring,\".png\")\n",
    "        plot_correlations(C_cross_stack,\"common shot\",maxlag,plot_chans,source_chan,331,title,fname,75,\"gray\")\n",
    "\n",
    "        println(\"Plotted file \"*f)\n",
    "        flush(stdout)\n",
    "\n",
    "    catch\n",
    "        println(\"Issue with file \"*f)\n",
    "        flush(stdout)\n",
    "    end\n",
    "        \n",
    "end\n"
>>>>>>> Stashed changes
   ]
  }
 ],
 "metadata": {
  "kernelspec": {
<<<<<<< Updated upstream
   "display_name": "julia-1.8.2 (SHARED)",
   "language": "julia",
   "name": "julia-1.8.2-shared"
=======
   "display_name": "julia 1.8.5",
   "language": "julia",
   "name": "julia-1.8"
>>>>>>> Stashed changes
  },
  "language_info": {
   "file_extension": ".jl",
   "mimetype": "application/julia",
   "name": "julia",
   "version": "1.8.5"
  }
 },
 "nbformat": 4,
 "nbformat_minor": 5
}
