{
 "cells": [
  {
   "cell_type": "code",
   "execution_count": null,
   "id": "84a2f242",
   "metadata": {},
   "outputs": [],
   "source": [
    "using SeisNoise, PyPlot, CUDA, Glob, HDF5, Combinatorics, Random, Statistics, ImageFiltering, FFTW, JLD2, Dates\n",
    "import SeisNoise: NoiseData\n",
    "import SeisIO: read_nodal, NodalData, InstrumentPosition, InstrumentResponse, show_str, show_t, show_x, show_os\n",
    "import FFTW: rfft, irfft\n",
    "import Base:show, size, summary\n",
    "include(\"Types.jl\")\n",
    "include(\"Nodal.jl\")\n",
    "include(\"Misc.jl\")"
   ]
  },
  {
   "cell_type": "code",
   "execution_count": null,
   "id": "a55330fb",
   "metadata": {},
   "outputs": [],
   "source": [
    "# list all the Greenland files\n",
    "path = \"/1-fnp/petasaur/p-wd03/greenland/Store Glacier DAS data/\"\n",
    "files_1khz = glob(\"1kHz/*\",path)\n",
    "N = read_nodal(\"segy\", files_1khz[2])\n",
    "\n",
    "# processing parameters\n",
    "freqmin, freqmax = 20,50\n",
    "sgn = \"both\"\n",
    "cmin,cmax = 1000,4000\n",
    "maxlag = 1\n",
    "\n",
    "# choose channels\n",
    "chan_start = 331\n",
    "chan_end = Int64(N.n-chan_start+1)\n",
    "chans = [chan_start,chan_end]\n",
    "\n",
    "# choose virtual source locations\n",
    "source_chan = 331"
   ]
  },
  {
   "cell_type": "code",
   "execution_count": null,
   "id": "cbf1c3c6",
   "metadata": {},
   "outputs": [],
   "source": [
    "# list all correlation files\n",
    "path = string(\"/1-fnp/pnwstore1/p-wd05/greenland/correlations/fk_\",cmin,\"_\",cmax,\"/all/fk_\",sgn,\"/\")\n",
    "files = glob(\"*\",path)\n",
    "files = files[BitVector(1 .- contains.(files,\"error\"))]\n",
    "\n",
    "# read results and stack\n",
    "C = load(files[1])[\"NodalCorrData\"]\n",
    "for f in files[2:end]\n",
    "    C.corr = C.corr + JLD2.load(f)[\"NodalCorrData\"].corr\n",
    "end"
   ]
  },
  {
   "cell_type": "code",
   "execution_count": null,
   "id": "d42476d1",
   "metadata": {},
   "outputs": [],
   "source": [
    "# save stack\n",
    "fname = string(\"/fd1/solinger/correlations/stack.jld2\")\n",
    "JLD2.save(fname,Dict(\"NodalCorrData\"=>C))"
   ]
  },
  {
   "cell_type": "code",
   "execution_count": null,
   "id": "d1ee21bc",
   "metadata": {},
   "outputs": [],
   "source": [
    "# read stack\n",
    "fname = string(\"/fd1/solinger/correlations/stack.jld2\")\n",
    "C = JLD2.load(fname)[\"NodalCorrData\"]\n",
    "\n",
    "# postprocessing\n",
    "C_filt = deepcopy(C)\n",
    "clean_up!(C_filt,freqmin,freqmax)\n",
    "\n",
    "# stack across cable\n",
    "corr_stack = cross_cable_stack(C_filt,collect(chans[1]:chans[2]))\n",
    "C_cross_stack = deepcopy(C_filt)\n",
    "C_cross_stack.corr = corr_stack\n",
    "\n",
    "# normalize post-stack\n",
    "abs_max!(C_cross_stack)\n",
    "abs_max!(C_filt)"
   ]
  },
  {
   "cell_type": "code",
   "execution_count": null,
   "id": "1411544f",
   "metadata": {
    "scrolled": false
   },
   "outputs": [],
   "source": [
    "# plot results\n",
    "midpoint = Int64(chans[1]+(chans[2]+1-chans[1])/2-1)\n",
    "plot_chans = [chans[1],midpoint]\n",
    "title = string(\"Stacked correlation functions at \",freqmin,\"-\",freqmax,\" Hz (virtual source at surface)\")\n",
    "fname = string(\"/fd1/solinger/correlation_figures/fk_\",sgn,\"_\",cmin,\"_\",cmax,\"1khz_stack_cross_\",freqmin,\"-\",freqmax,\n",
    "               \"Hz_source_\",source_chan,\".png\")\n",
    "plot_correlations(C_cross_stack,\"common shot\",maxlag,plot_chans,source_chan,330,title,\"\",75,\"gray\")"
   ]
  },
  {
   "cell_type": "code",
   "execution_count": null,
   "id": "e6ad7d4a",
   "metadata": {},
   "outputs": [],
   "source": [
    "# plot cross cable stack results for all sources\n",
    "midpoint = Int64(chans[1]+(chans[2]+1-chans[1])/2-1)\n",
    "plot_chans = [chans[1],midpoint]\n",
    "for chan_i = plot_chans[1]:plot_chans[2]\n",
    "    title = string(\"Stacked correlation functions at \",freqmin,\"-\",freqmax,\n",
    "               \"Hz (virtual source at channel \",chan_i,\")\")\n",
    "    fname = string(\"/fd1/solinger/correlation_figures/fk_\",sgn,\"_\",cmin,\"_\",cmax,\n",
    "               \"1khz_stack_cross_\",freqmin,\"-\",freqmax,\"Hz_source_\",chan_i,\".png\")\n",
    "    plot_correlations(C_cross_stack,\"common shot\",maxlag,plot_chans,chan_i,330,title,fname,75,\"gray\")\n",
    "    PyPlot.close()\n",
    "end"
   ]
  },
  {
   "cell_type": "code",
   "execution_count": null,
   "id": "ea28458f",
   "metadata": {},
   "outputs": [],
   "source": [
    "# list all the Greenland files\n",
    "path = \"/1-fnp/petasaur/p-wd03/greenland/Store Glacier DAS data/\"\n",
    "files_1khz = glob(\"1kHz/*\",path)\n",
    "N = read_nodal(\"segy\", files_1khz[2])\n",
    "\n",
    "# processing parameters\n",
    "freqmin, freqmax = 20,50\n",
    "sgn = \"both\"\n",
    "cmin,cmax = 1000,4000\n",
    "maxlag = 1\n",
    "\n",
    "# choose channels\n",
    "chan_start = 331\n",
    "chan_end = Int64(N.n-chan_start+1)\n",
    "chans = [chan_start,chan_end]\n",
    "\n",
    "# choose virtual source locations\n",
    "source_chan = 331\n",
    "\n",
    "# list all correlation files\n",
    "path = string(\"/1-fnp/pnwstore1/p-wd05/greenland/correlations/fk_\",cmin,\"_\",cmax,\"/all/fk_\",sgn,\"/\")\n",
    "files = glob(\"*\",path)\n",
    "files = files[BitVector(1 .- contains.(files,\"error\"))]\n",
    "\n",
    "# loop through each hourly stack\n",
    "for f in files\n",
    "    \n",
    "    # read stack\n",
    "    C = JLD2.load(f)[\"NodalCorrData\"]\n",
    "    \n",
    "    # postprocess\n",
    "    clean_up!(C,freqmin,freqmax)\n",
    "\n",
    "    # stack across cable\n",
    "    corr_stack = cross_cable_stack(C,collect(chans[1]:chans[2]))\n",
    "    C_cross_stack = C\n",
    "    C_cross_stack.corr = corr_stack\n",
    "\n",
    "    # normalize post-stack\n",
    "    abs_max!(C_cross_stack)\n",
    "\n",
    "    # plot results\n",
    "    midpoint = Int64(chans[1]+(chans[2]+1-chans[1])/2-1)\n",
    "    plot_chans = [chans[1],midpoint]\n",
    "    timestamp = split(split(files[1],\"_\")[5],\".\")[1]\n",
    "    title = string(\"Stacked correlation functions at \",freqmin,\"-\",freqmax,\" Hz (virtual source at surface) at T\",timestamp)\n",
    "    fname = string(\"/fd1/solinger/correlation_figures/hourly_stacks/fk_\",sgn,\"_\",cmin,\"_\",cmax,\"1khz_stack_cross_\",freqmin,\"-\",freqmax,\n",
    "               \"Hz_source_\",source_chan,\"_T\",timestamp,\".png\")\n",
    "    plot_correlations(C_cross_stack,\"common shot\",maxlag,plot_chans,source_chan,330,title,fname,75,\"gray\")\n",
    "end"
   ]
  },
  {
   "cell_type": "code",
   "execution_count": null,
   "id": "31eb6666",
   "metadata": {},
   "outputs": [],
   "source": [
    "# plot first leg results for all sources\n",
    "indices = [j for j in combinations(collect(chans[1]:chans[2]),2)]\n",
    "indices = reduce(vcat,transpose.(indices))\n",
    "leg1_indices = (indices[:,1] .<= midpoint .&& indices[:,2] .<= midpoint)\n",
    "C_leg1 = deepcopy(C_filt)\n",
    "C_leg1.corr = C_filt.corr[:,leg1_indices]\n",
    "\n",
    "# plot results\n",
    "for chan_i = plot_chans[1]:plot_chans[2]\n",
    "    title = string(\"Leg 1 correlation functions at \",freqmin,\"-\",freqmax,\n",
    "               \"Hz (virtual source at channel \",chan_i,\")\")\n",
    "    fname = string(\"/fd1/solinger/correlations/figures/fk_\",cmin,\"_\",cmax,\"/fk_\",sgn,\n",
    "                \"/all_sources/1khz_stack_leg1_\",freqmin,\"-\",freqmax,\"Hz_source_\",chan_i,\".png\")\n",
    "    plot_correlations(C_leg1,\"common shot\",maxlag,plot_chans,chan_i,330,title,fname)\n",
    "    PyPlot.close()\n",
    "end"
   ]
  },
  {
   "cell_type": "code",
   "execution_count": null,
   "id": "ce84f7af",
   "metadata": {},
   "outputs": [],
   "source": [
    "# write a loop code to do every virtual source\n",
    "# animation!"
   ]
  },
  {
   "cell_type": "code",
   "execution_count": null,
   "id": "75ee9af2",
   "metadata": {},
   "outputs": [],
   "source": [
    "# list all correlation files\n",
    "path = string(\"/1-fnp/pnwstore1/p-wd05/greenland/correlations/fk_\",cmin,\"_\",cmax,\"/all/fk_\",sgn,\"/\")\n",
    "files = glob(\"*\",path)\n",
    "files = files[BitVector(1 .- contains.(files,\"error\"))]\n"
   ]
  },
  {
   "cell_type": "code",
   "execution_count": null,
   "id": "791f9256",
   "metadata": {},
   "outputs": [],
   "source": [
    "files"
   ]
  }
 ],
 "metadata": {
  "kernelspec": {
   "display_name": "julia-1.8.2 (SHARED)",
   "language": "julia",
   "name": "julia-1.8.2-shared"
  },
  "language_info": {
   "file_extension": ".jl",
   "mimetype": "application/julia",
   "name": "julia",
   "version": "1.8.5"
  }
 },
 "nbformat": 4,
 "nbformat_minor": 5
}
