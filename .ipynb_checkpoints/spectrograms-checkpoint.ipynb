{
 "cells": [
  {
   "cell_type": "code",
   "execution_count": 1,
   "id": "799726e2",
   "metadata": {},
   "outputs": [],
   "source": [
    "import obspy\n",
    "import h5py\n",
    "from scipy.signal import spectrogram\n",
    "import numpy as np\n",
    "import glob\n",
    "import matplotlib. pyplot as plt\n",
    "import matplotlib.dates as mdates\n",
    "import datetime as datetime\n",
    "import multiprocessing\n",
    "from multiprocessing import set_start_method\n",
    "from compute_spectrogram import (compute_spectrogram, plot_spectrogram, compute_and_plot_spectrogram,\n",
    "                                compute_and_save_spectrogram)"
   ]
  },
  {
   "cell_type": "code",
   "execution_count": 2,
   "id": "e3fe928b",
   "metadata": {},
   "outputs": [],
   "source": [
    "'''\n",
    "\n",
    "Set spectrogram parameters\n",
    "\n",
    "'''\n",
    "\n",
    "window_length = 1000 # seconds\n",
    "noverlap = 0.75 # ratio of window_length"
   ]
  },
  {
   "cell_type": "code",
   "execution_count": null,
   "id": "4bdebeb9",
   "metadata": {},
   "outputs": [],
   "source": [
    "# get list of all continuous channel files\n",
    "path = \"/1-fnp/pnwstore1/p-wd05/greenland/data/channel/\"\n",
    "files = glob.glob(path+\"/*\")\n",
    "\n",
    "# list any already-processed files\n",
    "# out_path = \"/fd1/solinger/spectrograms/\"\n",
    "# out_files = glob.glob(out_path+\"*\")\n",
    "# for out_f in out_files:\n",
    "#     for i,f in enumerate(files):\n",
    "#         if out_f.split(\"/\")[4].split(\".\")[0] in f:\n",
    "#             del files[i]\n",
    "\n",
    "# sort by channel\n",
    "channels = list(map(int,[f.split(\"_\")[1].split(\".\")[0] for f in files]))\n",
    "sort_idx = np.argsort(channels)\n",
    "files = np.array(files)[sort_idx]\n",
    "channels = np.array(channels)[sort_idx]"
   ]
  },
  {
   "cell_type": "code",
   "execution_count": null,
   "id": "55eae051",
   "metadata": {},
   "outputs": [],
   "source": [
    "'''\n",
    "\n",
    "Plot spectrogram for each channel\n",
    "\n",
    "'''\n",
    "\n",
    "# set output path\n",
    "out_path = \"/store_ssd4/greenland/spectrograms/\"\n",
    "\n",
    "# construct iterable list of detection parameter objects for starmap\n",
    "inputs = []\n",
    "for f in files:\n",
    "    input_val = [f,window_length,noverlap,out_path]\n",
    "    inputs.append(input_val)\n",
    "\n",
    "# start parallel pool\n",
    "nprocs = 4\n",
    "multiprocessing.freeze_support()\n",
    "if __name__ == '__main__':\n",
    "    p = multiprocessing.Pool(processes=nprocs)\n",
    "    with p multiprocessing.Pool(processes=nprocs) as p\n",
    "        p.starmap(compute_and_save_spectrogram,inputs):\n",
    "    p.close()\n",
    "    p.join()"
   ]
  },
  {
   "cell_type": "code",
<<<<<<< Updated upstream
   "execution_count": 4,
=======
   "execution_count": 19,
>>>>>>> Stashed changes
   "id": "54c2a3a3",
   "metadata": {},
   "outputs": [],
   "source": [
    "# get list of all continuous channel files\n",
    "path = \"/1-fnp/pnwstore1/p-wd05/greenland/data/channel/\"\n",
    "files = glob.glob(path+\"/*\")\n",
    "\n",
    "# list any already-processed files\n",
    "out_path = \"/1-fnp/pnwstore1/p-wd05/greenland/spectrograms/\"\n",
    "out_files = glob.glob(out_path+\"*h5\")\n",
    "for out_f in out_files:\n",
    "    for i,f in enumerate(files):\n",
    "        if out_f.split(\"/\")[6].split(\".\")[0] in f:\n",
    "            del files[i]\n",
    "\n",
    "# sort by channel\n",
    "channels = list(map(int,[f.split(\"_\")[1].split(\".\")[0] for f in files]))\n",
    "sort_idx = np.argsort(channels)\n",
    "files = np.array(files)[sort_idx]\n",
    "channels = np.array(channels)[sort_idx]"
   ]
  },
  {
   "cell_type": "code",
   "execution_count": null,
   "id": "61bee769",
   "metadata": {},
   "outputs": [],
   "source": [
    "'''\n",
    "\n",
<<<<<<< Updated upstream
    "Get spectrogram data for each channel (parallel)\n",
=======
    "Get spectrogram data for each channel\n",
>>>>>>> Stashed changes
    "\n",
    "'''\n",
    "\n",
    "# set output path\n",
    "out_path = \"/store_ssd4/greenland/spectrograms/\"\n",
    "\n",
    "# construct iterable list of detection parameter objects for starmap\n",
    "inputs = []\n",
    "for f in files:\n",
<<<<<<< Updated upstream
    "    input_val = [f,window_length,noverlap,out_path]\n",
=======
    "    input_val = [f,window_length,noverlap]\n",
>>>>>>> Stashed changes
    "    inputs.append(input_val)\n",
    "\n",
    "# start parallel pool\n",
    "nprocs = 24\n",
    "multiprocessing.freeze_support()\n",
    "if __name__ == '__main__':\n",
    "    with p multiprocessing.Pool(processes=nprocs) as p\n",
    "        p.starmap(compute_and_save_spectrogram,inputs):\n",
    "    p.close()\n",
    "    p.join()"
   ]
  },
  {
   "cell_type": "code",
<<<<<<< Updated upstream
   "execution_count": 5,
   "id": "e2b7dcd7",
   "metadata": {},
   "outputs": [
    {
     "data": {
      "text/plain": [
       "array(['/1-fnp/pnwstore1/p-wd05/greenland/data/channel/channel_331.mseed',\n",
       "       '/1-fnp/pnwstore1/p-wd05/greenland/data/channel/channel_341.mseed',\n",
       "       '/1-fnp/pnwstore1/p-wd05/greenland/data/channel/channel_351.mseed',\n",
       "       '/1-fnp/pnwstore1/p-wd05/greenland/data/channel/channel_371.mseed',\n",
       "       '/1-fnp/pnwstore1/p-wd05/greenland/data/channel/channel_391.mseed',\n",
       "       '/1-fnp/pnwstore1/p-wd05/greenland/data/channel/channel_401.mseed',\n",
       "       '/1-fnp/pnwstore1/p-wd05/greenland/data/channel/channel_411.mseed',\n",
       "       '/1-fnp/pnwstore1/p-wd05/greenland/data/channel/channel_431.mseed',\n",
       "       '/1-fnp/pnwstore1/p-wd05/greenland/data/channel/channel_451.mseed',\n",
       "       '/1-fnp/pnwstore1/p-wd05/greenland/data/channel/channel_481.mseed',\n",
       "       '/1-fnp/pnwstore1/p-wd05/greenland/data/channel/channel_491.mseed',\n",
       "       '/1-fnp/pnwstore1/p-wd05/greenland/data/channel/channel_511.mseed',\n",
       "       '/1-fnp/pnwstore1/p-wd05/greenland/data/channel/channel_531.mseed',\n",
       "       '/1-fnp/pnwstore1/p-wd05/greenland/data/channel/channel_541.mseed',\n",
       "       '/1-fnp/pnwstore1/p-wd05/greenland/data/channel/channel_551.mseed',\n",
       "       '/1-fnp/pnwstore1/p-wd05/greenland/data/channel/channel_571.mseed',\n",
       "       '/1-fnp/pnwstore1/p-wd05/greenland/data/channel/channel_591.mseed',\n",
       "       '/1-fnp/pnwstore1/p-wd05/greenland/data/channel/channel_611.mseed',\n",
       "       '/1-fnp/pnwstore1/p-wd05/greenland/data/channel/channel_621.mseed',\n",
       "       '/1-fnp/pnwstore1/p-wd05/greenland/data/channel/channel_631.mseed',\n",
       "       '/1-fnp/pnwstore1/p-wd05/greenland/data/channel/channel_651.mseed',\n",
       "       '/1-fnp/pnwstore1/p-wd05/greenland/data/channel/channel_671.mseed',\n",
       "       '/1-fnp/pnwstore1/p-wd05/greenland/data/channel/channel_681.mseed',\n",
       "       '/1-fnp/pnwstore1/p-wd05/greenland/data/channel/channel_691.mseed',\n",
       "       '/1-fnp/pnwstore1/p-wd05/greenland/data/channel/channel_711.mseed',\n",
       "       '/1-fnp/pnwstore1/p-wd05/greenland/data/channel/channel_731.mseed',\n",
       "       '/1-fnp/pnwstore1/p-wd05/greenland/data/channel/channel_751.mseed',\n",
       "       '/1-fnp/pnwstore1/p-wd05/greenland/data/channel/channel_761.mseed',\n",
       "       '/1-fnp/pnwstore1/p-wd05/greenland/data/channel/channel_771.mseed',\n",
       "       '/1-fnp/pnwstore1/p-wd05/greenland/data/channel/channel_791.mseed'],\n",
       "      dtype='<U64')"
      ]
     },
     "execution_count": 5,
     "metadata": {},
     "output_type": "execute_result"
    }
   ],
   "source": [
    "'''\n",
    "\n",
    "Get spectrogram data for each channel (serial)\n",
    "\n",
    "'''\n",
    "\n",
    "# set output path\n",
    "out_path = \"/store_ssd4/greenland/spectrograms/\"\n",
    "\n",
    "# iterate through input files\n",
    "for f in files:\n",
    "    compute_and_save_spectrogram(f,window_length,noverlap,out_path)"
   ]
  },
  {
   "cell_type": "code",
   "execution_count": null,
   "id": "00a2fe12",
   "metadata": {},
   "outputs": [],
   "source": [
    "with h5py.File(\"/1-fnp/pnwstore1/p-wd05/greenland/spectrograms/channel_781.h5\", \"r\") as f:\n",
    "    print(f['s'][()])"
   ]
  },
  {
   "cell_type": "code",
=======
>>>>>>> Stashed changes
   "execution_count": null,
   "id": "a72be150",
   "metadata": {},
   "outputs": [],
   "source": [
    "'''\n",
    "\n",
    "Make spatial spectrogram\n",
    "\n",
    "'''\n",
    "\n",
    "# choose frequency bins\n",
    "\n",
    "# sum spectrogram within those frequency bins for each channel\n",
    "\n",
    "# for each frequency bin, pull out the corresponding data from each channel\n",
    "\n",
    "# plot the spatial spectrogram"
   ]
<<<<<<< Updated upstream
=======
  },
  {
   "cell_type": "code",
   "execution_count": null,
   "id": "4b420209",
   "metadata": {},
   "outputs": [],
   "source": []
>>>>>>> Stashed changes
  }
 ],
 "metadata": {
  "kernelspec": {
   "display_name": "seismo (SHARED)",
   "language": "python",
<<<<<<< Updated upstream
   "name": "seismo-py38-shared"
=======
   "name": "seismo"
>>>>>>> Stashed changes
  },
  "language_info": {
   "codemirror_mode": {
    "name": "ipython",
    "version": 3
   },
   "file_extension": ".py",
   "mimetype": "text/x-python",
   "name": "python",
   "nbconvert_exporter": "python",
   "pygments_lexer": "ipython3",
<<<<<<< Updated upstream
   "version": "3.8.12"
=======
   "version": "3.8.13"
>>>>>>> Stashed changes
  }
 },
 "nbformat": 4,
 "nbformat_minor": 5
}
